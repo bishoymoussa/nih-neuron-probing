{
 "cells": [
  {
   "cell_type": "code",
   "execution_count": null,
   "metadata": {},
   "outputs": [],
   "source": [
    "from google.colab import drive\n",
    "drive.mount('/content/drive', force_remount = True)"
   ]
  },
  {
   "cell_type": "code",
   "execution_count": null,
   "metadata": {},
   "outputs": [],
   "source": [
    "import os, time, random, torch, warnings, pandas\n",
    "import numpy as np\n",
    "from PIL import Image\n",
    "import torch.nn as nn\n",
    "import seaborn as sns\n",
    "from tqdm import tqdm\n",
    "from sklearn.manifold import TSNE\n",
    "import torch.optim as optim\n",
    "import matplotlib.pyplot as plt\n",
    "import torchvision.datasets as datasets\n",
    "import torchvision.transforms as transforms\n",
    "from torch.utils.data import DataLoader, random_split\n",
    "from sklearn.metrics import precision_score, recall_score, f1_score\n",
    "\n",
    "warnings.simplefilter(\"ignore\")\n",
    "device = torch.device('cuda' if torch.cuda.is_available() else 'cpu')\n",
    "device"
   ]
  },
  {
   "cell_type": "code",
   "execution_count": null,
   "metadata": {},
   "outputs": [],
   "source": [
    "data_path = \"/content/drive/My Drive/Simple_Chest_XRay/\"\n",
    "#data_path = \"/content/drive/My Drive/NIH_Chest_XRay/\"\n",
    "model_path = \"/content/drive/My Drive/Harvard_Chest_XRay/\"\n",
    "\n",
    "sample_ratio = 1\n",
    "batch_size = 96\n",
    "num_epochs = 20"
   ]
  },
  {
   "cell_type": "code",
   "execution_count": null,
   "metadata": {},
   "outputs": [],
   "source": [
    "# Set random seed for reproducibility\n",
    "torch.manual_seed(42)\n",
    "np.random.seed(42)\n",
    "random.seed(42)"
   ]
  },
  {
   "cell_type": "code",
   "execution_count": null,
   "metadata": {},
   "outputs": [],
   "source": [
    "def save_metrics(loss, accuracy, model):\n",
    "  np.save(\"{}{}_train_loss.npy\".format(data_path, model), loss)\n",
    "  np.save(\"{}{}_train_accuracy.npy\".format(data_path, model), accuracy)"
   ]
  },
  {
   "cell_type": "code",
   "execution_count": null,
   "metadata": {},
   "outputs": [],
   "source": [
    "%run \"/content/drive/My Drive/Colab Notebooks/utils.ipynb\"\n",
    "dataset, train_loader, train_indices, test_loader, test_indices, val_loader, val_indices = data_preprocess(data_path, sample_ratio, batch_size)"
   ]
  },
  {
   "cell_type": "code",
   "execution_count": null,
   "metadata": {},
   "outputs": [],
   "source": [
    "# Define the pretrained ResNet18 model and perform Deep-Tuning\n",
    "model = torch.hub.load('pytorch/vision:v0.9.0', 'resnet18', pretrained = False)\n",
    "model.fc = nn.Linear(512, len(dataset.classes))\n",
    "\n",
    "state_dict = torch.load(\"{}resnet18.pth\".format(model_path))\n",
    "\n",
    "state_dict['fc.weight'] = model.fc.weight\n",
    "state_dict['fc.bias'] = model.fc.bias\n",
    "model.load_state_dict(state_dict)\n",
    "\n",
    "for encoderparams, classifierparams in zip(model.parameters(), model.fc.parameters()):\n",
    "  encoderparams.requires_grad, classifierparams.requires_grad = True, True\n",
    "\n",
    "model.to(device)\n",
    "\n",
    "# Define loss function as CrossEntropy and optimizer as Adam Optimizer\n",
    "criterion = nn.CrossEntropyLoss()\n",
    "optimizer = optim.Adam(model.parameters(), lr = 0.0001)\n",
    "\n",
    "losses, accuracies, v_accuracies, v_losses = train_model(model, criterion, optimizer, \"TL_ResNet18\", num_epochs)"
   ]
  },
  {
   "cell_type": "code",
   "execution_count": null,
   "metadata": {},
   "outputs": [],
   "source": [
    "torch.save(model.state_dict(), \"{}TL_resnet18.pth\".format(data_path)) \n"
   ]
  },
  {
   "cell_type": "code",
   "execution_count": null,
   "metadata": {},
   "outputs": [],
   "source": [
    "#Plotting the Loss and Accuracy Curves\n",
    "plot_model_curves(losses, accuracies, v_accuracies, v_losses)"
   ]
  },
  {
   "cell_type": "code",
   "execution_count": null,
   "metadata": {},
   "outputs": [],
   "source": [
    "#Evaluate Model on Test Set\n",
    "evaluate_model(model, test_loader, test_indices, 'TEST', criterion, data_path, \"ResNet18\")"
   ]
  },
  {
   "cell_type": "code",
   "execution_count": null,
   "metadata": {},
   "outputs": [],
   "source": [
    "#Obtain the TSNE Plot\n",
    "plot_TSNE(train_loader, device, model)"
   ]
  },
  {
   "cell_type": "code",
   "execution_count": null,
   "metadata": {},
   "outputs": [],
   "source": [
    "#Plot the Within-Class Variance of the dataset\n",
    "plot_within_class_variance(dataset)"
   ]
  },
  {
   "cell_type": "code",
   "execution_count": null,
   "metadata": {},
   "outputs": [],
   "source": [
    "def within_class_variance(dataset, model):\n",
    "    # Set the model to evaluation mode\n",
    "    model.eval()\n",
    "    # Get the feature vectors and labels for the dataset\n",
    "    features = []\n",
    "    labels = []\n",
    "    for images, targets in train_loader:\n",
    "        with torch.no_grad():\n",
    "          images = images.to(device)\n",
    "          targets = targets.to(device)\n",
    "          output = model(images)\n",
    "          features.append(output.cpu().numpy()[0])\n",
    "          labels.append(targets.cpu().numpy()[0])\n",
    "    features = np.array(features)\n",
    "    labels = np.array(labels)\n",
    "    \n",
    "    # Calculate the within-class variance for each class\n",
    "    class_variances = []\n",
    "    for c in np.unique(labels):\n",
    "        class_features = features[labels == c]\n",
    "        class_mean = np.mean(class_features, axis=0)\n",
    "        class_variance = np.mean(np.sum((class_features - class_mean)**2, axis=1))\n",
    "        class_variances.append(class_variance)\n",
    "    \n",
    "    return class_variances\n",
    "\n",
    "# Define the dataset and model\n",
    "# Calculate the within-class variance\n",
    "class_variances = within_class_variance(dataset, model)\n",
    "\n",
    "# Plot the within-class variances for each class\n",
    "plt.bar(np.arange(len(class_variances)), class_variances)\n",
    "plt.xticks(np.arange(len(class_variances)), dataset.classes)\n",
    "plt.ylabel('Within-class variance')\n",
    "plt.show()"
   ]
  }
 ],
 "metadata": {
  "language_info": {
   "name": "python"
  }
 },
 "nbformat": 4,
 "nbformat_minor": 2
}
